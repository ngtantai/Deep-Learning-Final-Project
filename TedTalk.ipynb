{
 "cells": [
  {
   "cell_type": "markdown",
   "metadata": {},
   "source": [
    "# TEDTALK ANALYSIS - Final DL Project - 2017"
   ]
  },
  {
   "cell_type": "markdown",
   "metadata": {},
   "source": [
    "## Data description"
   ]
  },
  {
   "cell_type": "markdown",
   "metadata": {},
   "source": [
    "TED-LIUM Corpus\n",
    "\n",
    "This is the TED-LIUM corpus release 2, \n",
    "licensed under Creative Commons BY-NC-ND 3.0 (http://creativecommons.org/licenses/by-nc-nd/3.0/deed.en). \n",
    "\n",
    "All talks and text are property of TED Conferences LLC. \n",
    "\n",
    "--- \n",
    "\n",
    "The TED-LIUM corpus was made from audio talks and their transcriptions available on the TED website. We have prepared and filtered these data in order to train acoustic models to participate to the International Workshop on Spoken Language Translation 2011 (the LIUM English/French SLT system reached the first rank in the SLT task). \n",
    "\n",
    "More details are given in this paper: \n",
    "\n",
    "A. Rousseau, P. Deléglise, and Y. Estève, \"Enhancing the TED-LIUM Corpus with Selected Data for Language Modeling and More TED Talks\",\n",
    "in Proceedings of the Ninth International Conference on Language Resources and Evaluation (LREC’14), May 2014.\n",
    "\n",
    "--- \n",
    "\n",
    "Contents: \n",
    "\n",
    "- 1495 audio talks in NIST sphere format (SPH) \n",
    "- 1495 transcripts in STM format \n",
    "- Dictionary with pronunciation (159848 entries) \n",
    "- Selected monolingual data for language modeling from WMT12 publicly available corpora\n",
    "\n"
   ]
  },
  {
   "cell_type": "code",
   "execution_count": 17,
   "metadata": {},
   "outputs": [
    {
     "name": "stderr",
     "output_type": "stream",
     "text": [
      "Widget Javascript not detected.  It may not be installed or enabled properly.\n"
     ]
    },
    {
     "data": {
      "application/vnd.jupyter.widget-view+json": {
       "model_id": "57956fd97ee745c19b298e0bb2a81f8c"
      }
     },
     "metadata": {},
     "output_type": "display_data"
    }
   ],
   "source": [
    "import requests\n",
    "from ipywidgets import Image\n",
    "Image(value=requests.get('https://i.elitestatic.com/content/uploads/2017/05/08083847/couple-talks-about-rape-ted-talk.jpg').content)"
   ]
  },
  {
   "cell_type": "code",
   "execution_count": 63,
   "metadata": {
    "collapsed": true
   },
   "outputs": [],
   "source": [
    "import numpy as np\n",
    "import pandas as pd\n",
    "import glob\n",
    "from texttable import Texttable\n",
    "\n",
    "from keras.datasets import imdb\n",
    "from keras.preprocessing.text import Tokenizer\n",
    "from keras.utils import to_categorical\n",
    "from keras.preprocessing.text import text_to_word_sequence, one_hot\n",
    "from keras.preprocessing.sequence import pad_sequences\n",
    "from keras.models import Model, Sequential\n",
    "from keras.layers import Dense, Embedding, Flatten, LSTM , concatenate, Dense, Dropout, Activation,Conv1D, GlobalMaxPooling1D\n",
    "\n",
    "from sklearn.model_selection import train_test_split, cross_val_score, GridSearchCV\n",
    "from sklearn.linear_model import SGDClassifier\n",
    "from sklearn.pipeline import Pipeline\n",
    "from sklearn.feature_selection import SelectKBest, chi2\n",
    "from sklearn.metrics import confusion_matrix\n",
    "\n",
    "from sklearn.naive_bayes import GaussianNB\n",
    "from sklearn.feature_extraction.text import CountVectorizer, TfidfTransformer\n",
    "\n",
    "from time import time\n",
    "from pprint import pprint\n",
    "\n",
    "%matplotlib inline\n"
   ]
  },
  {
   "cell_type": "markdown",
   "metadata": {},
   "source": [
    "# Cleaning & Preprocessing text data"
   ]
  },
  {
   "cell_type": "markdown",
   "metadata": {},
   "source": [
    "Since, I am given only the text data of Tedtalk and no other information, which means there is no target variable present. However, the tendency of the project is to have a supervised learning model, I'm interested in defining the explanatory variables for the context of Tedtalk speech. And in this case, the classification is whether the speech is from \"male\" or \"female\" voice."
   ]
  },
  {
   "cell_type": "code",
   "execution_count": 64,
   "metadata": {
    "collapsed": true
   },
   "outputs": [],
   "source": [
    "# female = pd.DataFrame\n",
    "y = []\n",
    "y_test = []\n",
    "\n",
    "def preprocess(df, tag='train'):\n",
    "    df   = df.drop(df.columns[[0, 1]], axis=1)\n",
    "    str_ = \"\"\n",
    "    str_ = df.columns[0].replace('female>', '').replace('male>', '')\n",
    "    df   = df.rename(index=str, columns={df.columns[0]: \"sentences\"})# rename column\n",
    "    \n",
    "    #supervised labels male or female\n",
    "    female = df['sentences'].str.contains('female>')\n",
    "    male = df['sentences'].str.contains('male>')\n",
    "    if tag == 'train':\n",
    "        if female[0] == True:\n",
    "            y.append(0) #female\n",
    "        else:\n",
    "            y.append(1) #male\n",
    "    else:\n",
    "        if female[0] == True:\n",
    "            y_test.append(0) #female\n",
    "        else:\n",
    "            y_test.append(1) #male\n",
    "        \n",
    "    #truncate redundant tag word\n",
    "    df['sentences'] = df['sentences'].str.replace('female>', '') # truncate female>\n",
    "    df['sentences'] = df['sentences'].str.replace('male>', '') # truncate male>\n",
    "    pd.options.display.max_colwidth = 400\n",
    "    df['col1'] = 'A' # set a random name for column\n",
    "    df = df.groupby('col1')['sentences'].apply(' '.join).reset_index()\n",
    "    return str_ + df.drop(labels='col1',axis=1).loc[0][0]"
   ]
  },
  {
   "cell_type": "markdown",
   "metadata": {},
   "source": [
    "# Load all tedtalk transcripts"
   ]
  },
  {
   "cell_type": "code",
   "execution_count": 65,
   "metadata": {
    "collapsed": true
   },
   "outputs": [],
   "source": [
    "path = 'TedTalk/train/stm' \n",
    "allFiles = glob.glob(path + \"/*.stm\")\n",
    "frame = pd.DataFrame()\n",
    "X = []\n",
    "X_test = []\n",
    "for i,file_ in enumerate(allFiles):\n",
    "    df = pd.read_csv(file_)\n",
    "    try:\n",
    "        content_extracted = preprocess(df, tag='train')\n",
    "        X.append(content_extracted)\n",
    "    except:\n",
    "        pass\n",
    "\n",
    "path = 'TedTalk/test/stm' \n",
    "allFiles1 = glob.glob(path + \"/*.stm\")\n",
    "for i,file_ in enumerate(allFiles1):\n",
    "    df1 = pd.read_csv(file_)\n",
    "    try:\n",
    "        content_extracted = preprocess(df1, tag='test')\n",
    "        X_test.append(content_extracted)\n",
    "    except:\n",
    "        pass"
   ]
  },
  {
   "cell_type": "code",
   "execution_count": 66,
   "metadata": {},
   "outputs": [
    {
     "data": {
      "text/plain": [
       "1492"
      ]
     },
     "execution_count": 66,
     "metadata": {},
     "output_type": "execute_result"
    }
   ],
   "source": [
    "len(y)"
   ]
  },
  {
   "cell_type": "code",
   "execution_count": 67,
   "metadata": {},
   "outputs": [
    {
     "name": "stdout",
     "output_type": "stream",
     "text": [
      "1495\n"
     ]
    }
   ],
   "source": [
    "print(len(allFiles))"
   ]
  },
  {
   "cell_type": "code",
   "execution_count": 68,
   "metadata": {
    "scrolled": true
   },
   "outputs": [
    {
     "data": {
      "text/plain": [
       "1492"
      ]
     },
     "execution_count": 68,
     "metadata": {},
     "output_type": "execute_result"
    }
   ],
   "source": [
    "len(X)"
   ]
  },
  {
   "cell_type": "code",
   "execution_count": 69,
   "metadata": {},
   "outputs": [
    {
     "data": {
      "text/plain": [
       "[0, 0, 1, 1, 0]"
      ]
     },
     "execution_count": 69,
     "metadata": {},
     "output_type": "execute_result"
    }
   ],
   "source": [
    "y[:5]"
   ]
  },
  {
   "cell_type": "code",
   "execution_count": 70,
   "metadata": {
    "scrolled": false
   },
   "outputs": [
    {
     "data": {
      "text/plain": [
       "\" today because of i first learned that my son had been in the world trade center on the morning of september eleventh two thousand and one  we didn 't know if he had perished yet until thirty six hours later at the time  we knew that it was political  we were afraid of what our country was going to do in the name of our son my husband orlando and i  and our family and when i saw it and yet through the shock  the terrible shock and the terrible  explosion in our lives literally  we were not vengeful  on six counts of conspiracy to commit terrorism  and the u s government called for a death penalty for him if convicted  my husband and i spoke out  in opposition to that publicly through that and through human rights  groups we were brought together with several other victims families when i saw aicha in the media  coming over when her son was indicted and i thought what a brave woman someday i want to meet that woman when i 'm stronger i was still in deep grief i knew i didn 't have the strength i knew i would find her someday or we would find each other because when people heard that my son  was a victim i got immediate sympathy  but when people learned what her son was accused of she didn 't get that sympathy but her suffering is equal to mine so we met in november two thousand and two and aicha will now tell you how that came about  introduced me to five families and i saw phyllis and i watched  and i saw in her eyes that she was a mother just like me  i was married when i was fourteen i lost a child when i was fifteen a second child when i was sixteen so the story with zacarias was too much really  so that 's why i decided to tell my story so that my suffering is something positive for other women  all the women all the mothers  it 's up to us women because we are women because we love our children  it 's not against women it 's for us for us women for  i talk against violence against terrorism i go to schools to talk to young muslim  girls so they don 't accept to be married against their will very young  so if i can save one of the young girls and avoid that they get married and suffer as much as i did well this is something  i have learned so much  family members but we were all so nervous why does she want to meet us  and then she was nervous why did we want to meet her what did we want from each other  before we knew each others names or anything we had embraced  and wept then we sat in a circle  with support with help from people experienced in this kind of reconciliation and aicha started and she said  i don 't know if my son is guilty or innocent but i want to tell you how sorry i am for what happened to your families  i know what it is to suffer  and i feel that if there is a crime a person should be tried fairly and punished  but  she reached out to us in that way and it was i 'd like to say it was an ice breaker and what happened then is we all told our stories  and we all connected as human beings by the end of the afternoon it was about three hours after lunch  we 'd felt as if we 'd known each other forever now what i learned from her is a woman not only who could be so generous under these present circumstances and what it was then and what was being done to her son but the life she 's had i never had met  someone with such a hard life from such a totally different culture and environment from my own  being afraid of the other but making that step  and then realizing hey this wasn 't so hard who else can i meet that i don 't know or that i 'm so different from  so aicha do you have  a couple of words for conclusion because our time is up  i wanted to say that we have to try to know other people the other  and i hope that someday we 'll all live together in peace and respecting each other this is what i wanted to say\""
      ]
     },
     "execution_count": 70,
     "metadata": {},
     "output_type": "execute_result"
    }
   ],
   "source": [
    "X[0]"
   ]
  },
  {
   "cell_type": "markdown",
   "metadata": {},
   "source": [
    "# Baseline"
   ]
  },
  {
   "cell_type": "code",
   "execution_count": 71,
   "metadata": {
    "collapsed": true
   },
   "outputs": [],
   "source": [
    "def prediction_summary(estimator, X, y):\n",
    "    p = estimator.predict(X)\n",
    "    correct_predictions = sum(p == y)\n",
    "    incorrect_predictions = len(y) - correct_predictions\n",
    "    \n",
    "    # set up confusion matrix table\n",
    "    label_list = [0, 1] \n",
    "    cm = confusion_matrix(y, list(p), labels=label_list)\n",
    "    y1 = [i for i in y if i == 0]\n",
    "    \n",
    "    t = Texttable()\n",
    "    t.set_cols_align([\"c\", \"l\"])\n",
    "#     t.set_chars(['_', '', '', '='])\n",
    "    t.add_rows([['Data Outputs','Value'],\n",
    "                ['    # of correct predictions: ', str(correct_predictions)],\n",
    "                ['  # of incorrect predictions: ', str(incorrect_predictions)] ,\n",
    "                ['                    Accuracy: ', str(100.0 * correct_predictions / (correct_predictions + incorrect_predictions))],\n",
    "                [\"  Total actual female labels:\", len(y1)],\n",
    "                [\"    Total actual male labels:\", len(y) - len(y1)],\n",
    "                ['              Labels in data:', label_list],\n",
    "                ['            Confusion matrix', 'Columns: Predicted labels'],\n",
    "                ['         Rows: actual labels', cm ]])\n",
    "    t.set_cols_align(array=[0,\"r\"])\n",
    "    t.set_cols_align(array=[1,\"l\"])\n",
    "    print (t.draw())\n"
   ]
  },
  {
   "cell_type": "markdown",
   "metadata": {},
   "source": [
    "## Bag of words + TfidfTransform classifier"
   ]
  },
  {
   "cell_type": "markdown",
   "metadata": {},
   "source": [
    "* $ \\text{tf-idf(t,d)}=\\text{tf(t,d)} \\times \\text{idf(t)}. $\n"
   ]
  },
  {
   "cell_type": "code",
   "execution_count": 72,
   "metadata": {},
   "outputs": [
    {
     "name": "stdout",
     "output_type": "stream",
     "text": [
      "1193 1193\n",
      "# of correct predictions: 1189\n",
      "# of incorrect predictions: 4\n",
      "Percent correct: 99.6647108131\n"
     ]
    }
   ],
   "source": [
    "x_train, x_test, y_train, y_test = train_test_split(X, y, test_size=0.2, random_state=42)\n",
    "\n",
    "# Convert a collection of text documents to a matrix of token counts\n",
    "count_vect = CountVectorizer()\n",
    "X_train_counts = count_vect.fit_transform(x_train)\n",
    "\n",
    "#Transform a count matrix to a normalized tf-idf representation\n",
    "tf_transformer = TfidfTransformer(use_idf=False)\n",
    "X_train_tf = tf_transformer.fit_transform(X_train_counts)\n",
    "\n",
    "print(len(x_train),len(y_train))\n",
    "clf = GaussianNB().fit(X=X_train_tf.toarray(), y=y_train)\n",
    "X_new_counts = count_vect.transform(x_train)\n",
    "\n",
    "X_new_tfidf = tf_transformer.transform(X_new_counts)\n",
    "predictions = clf.predict(X_new_tfidf.toarray())\n",
    "\n",
    "correct_predictions = sum(predictions == y_train)\n",
    "incorrect_predictions = len(y_train) - correct_predictions  \n",
    "print('# of correct predictions: ' + str(correct_predictions))\n",
    "print('# of incorrect predictions: ' + str(incorrect_predictions))\n",
    "print('Percent correct: ' + str(100.0 * correct_predictions / (correct_predictions + incorrect_predictions)))\n"
   ]
  },
  {
   "cell_type": "code",
   "execution_count": 73,
   "metadata": {
    "scrolled": true
   },
   "outputs": [
    {
     "name": "stdout",
     "output_type": "stream",
     "text": [
      "+--------------------------------+---------------------------+\n",
      "|          Data Outputs          |           Value           |\n",
      "+================================+===========================+\n",
      "|     # of correct predictions:  | 1189                      |\n",
      "+--------------------------------+---------------------------+\n",
      "|   # of incorrect predictions:  | 4                         |\n",
      "+--------------------------------+---------------------------+\n",
      "|                     Accuracy:  | 99.665                    |\n",
      "+--------------------------------+---------------------------+\n",
      "|   Total actual female labels:  | 392                       |\n",
      "+--------------------------------+---------------------------+\n",
      "|     Total actual male labels:  | 801                       |\n",
      "+--------------------------------+---------------------------+\n",
      "|               Labels in data:  | [0, 1]                    |\n",
      "+--------------------------------+---------------------------+\n",
      "|             Confusion matrix   | Columns: Predicted labels |\n",
      "+--------------------------------+---------------------------+\n",
      "|          Rows: actual labels   | [[392   0]                |\n",
      "|                                |  [  4 797]]               |\n",
      "+--------------------------------+---------------------------+\n"
     ]
    }
   ],
   "source": [
    "prediction_summary(clf, X_new_tfidf.toarray(), y_train)"
   ]
  },
  {
   "cell_type": "markdown",
   "metadata": {},
   "source": [
    "## MultinomialNB"
   ]
  },
  {
   "cell_type": "code",
   "execution_count": 74,
   "metadata": {
    "scrolled": false
   },
   "outputs": [
    {
     "data": {
      "text/plain": [
       "MultinomialNB(alpha=1.0, class_prior=None, fit_prior=True)"
      ]
     },
     "execution_count": 74,
     "metadata": {},
     "output_type": "execute_result"
    }
   ],
   "source": [
    "# Naive Bayes classifier is a general term which refers to conditional independence of each of the features in the model, \n",
    "# while Multinomial Naive Bayes classifier is a specific instance of a Naive Bayes classifier \n",
    "# which uses a multinomial distribution for each of the features.\n",
    "# Naive Bayes classification is the best suited for this kind of text analysis and brings the most \n",
    "# favorable results. \n",
    "# It considers word occurrence in a single document\n",
    "from sklearn.naive_bayes import MultinomialNB\n",
    "\n",
    "x_train, x_test, y_train, y_test = train_test_split(X, y, test_size=0.33, random_state=42)\n",
    "\n",
    "# clean data: remove empty row\n",
    "x_train = [x for x in x_train if x is not None]\n",
    "x_test = [x for x in x_test if x is not None]\n",
    "\n",
    "# feature extraction\n",
    "count_vect = CountVectorizer()\n",
    "count_vect.fit(x_train)\n",
    "\n",
    "# turns the text into a sparse matrix\n",
    "x_train_counts = count_vect.transform(x_train)\n",
    "\n",
    "# train with MultinomialNB\n",
    "nb = MultinomialNB()\n",
    "nb.fit(x_train_counts, y_train)"
   ]
  },
  {
   "cell_type": "code",
   "execution_count": 75,
   "metadata": {},
   "outputs": [
    {
     "name": "stdout",
     "output_type": "stream",
     "text": [
      "\n",
      "An example of tranformed x_train \n"
     ]
    },
    {
     "data": {
      "image/png": "[encoded data removed]",
      "text/plain": [
       "<matplotlib.figure.Figure at 0x13c541b38>"
      ]
     },
     "metadata": {},
     "output_type": "display_data"
    }
   ],
   "source": [
    "import matplotlib.pyplot as plt\n",
    "import matplotlib.image as mpimg\n",
    "\n",
    "plt.figure(num=None, figsize=(7,8), dpi=100, facecolor='w', edgecolor='k')\n",
    "img = mpimg.imread('transform_text_data')\n",
    "plt.imshow(img)\n",
    "plt.axis('off')\n",
    "print('\\nAn example of tranformed x_train ')\n",
    "plt.show()"
   ]
  },
  {
   "cell_type": "markdown",
   "metadata": {},
   "source": [
    "## Evaluate test data"
   ]
  },
  {
   "cell_type": "code",
   "execution_count": 76,
   "metadata": {
    "scrolled": true
   },
   "outputs": [
    {
     "name": "stdout",
     "output_type": "stream",
     "text": [
      "+--------------------------------+---------------------------+\n",
      "|          Data Outputs          |           Value           |\n",
      "+================================+===========================+\n",
      "|     # of correct predictions:  | 357                       |\n",
      "+--------------------------------+---------------------------+\n",
      "|   # of incorrect predictions:  | 136                       |\n",
      "+--------------------------------+---------------------------+\n",
      "|                     Accuracy:  | 72.414                    |\n",
      "+--------------------------------+---------------------------+\n",
      "|   Total actual female labels:  | 152                       |\n",
      "+--------------------------------+---------------------------+\n",
      "|     Total actual male labels:  | 341                       |\n",
      "+--------------------------------+---------------------------+\n",
      "|               Labels in data:  | [0, 1]                    |\n",
      "+--------------------------------+---------------------------+\n",
      "|             Confusion matrix   | Columns: Predicted labels |\n",
      "+--------------------------------+---------------------------+\n",
      "|          Rows: actual labels   | [[ 44 108]                |\n",
      "|                                |  [ 28 313]]               |\n",
      "+--------------------------------+---------------------------+\n"
     ]
    }
   ],
   "source": [
    "prediction_summary(nb, count_vect.transform(x_test), y_test)"
   ]
  },
  {
   "cell_type": "markdown",
   "metadata": {},
   "source": [
    "## SVM"
   ]
  },
  {
   "cell_type": "code",
   "execution_count": 77,
   "metadata": {
    "scrolled": true
   },
   "outputs": [
    {
     "data": {
      "text/plain": [
       "SGDClassifier(alpha=0.0001, average=False, class_weight=None, epsilon=0.1,\n",
       "       eta0=0.0, fit_intercept=True, l1_ratio=0.15,\n",
       "       learning_rate='optimal', loss='hinge', n_iter=5, n_jobs=1,\n",
       "       penalty='l2', power_t=0.5, random_state=None, shuffle=True,\n",
       "       verbose=0, warm_start=False)"
      ]
     },
     "execution_count": 77,
     "metadata": {},
     "output_type": "execute_result"
    }
   ],
   "source": [
    "count_vect = CountVectorizer()\n",
    "count_vect.fit(x_train)\n",
    "\n",
    "svm_clf = SGDClassifier()\n",
    "svm_clf.fit(count_vect.transform(x_train), y_train)"
   ]
  },
  {
   "cell_type": "code",
   "execution_count": 78,
   "metadata": {},
   "outputs": [
    {
     "name": "stdout",
     "output_type": "stream",
     "text": [
      "+--------------------------------+---------------------------+\n",
      "|          Data Outputs          |           Value           |\n",
      "+================================+===========================+\n",
      "|     # of correct predictions:  | 292                       |\n",
      "+--------------------------------+---------------------------+\n",
      "|   # of incorrect predictions:  | 201                       |\n",
      "+--------------------------------+---------------------------+\n",
      "|                     Accuracy:  | 59.229                    |\n",
      "+--------------------------------+---------------------------+\n",
      "|   Total actual female labels:  | 152                       |\n",
      "+--------------------------------+---------------------------+\n",
      "|     Total actual male labels:  | 341                       |\n",
      "+--------------------------------+---------------------------+\n",
      "|               Labels in data:  | [0, 1]                    |\n",
      "+--------------------------------+---------------------------+\n",
      "|             Confusion matrix   | Columns: Predicted labels |\n",
      "+--------------------------------+---------------------------+\n",
      "|          Rows: actual labels   | [[102  50]                |\n",
      "|                                |  [151 190]]               |\n",
      "+--------------------------------+---------------------------+\n"
     ]
    }
   ],
   "source": [
    "prediction_summary(svm_clf, count_vect.transform(x_test), y_test)"
   ]
  },
  {
   "cell_type": "code",
   "execution_count": 87,
   "metadata": {},
   "outputs": [
    {
     "data": {
      "text/plain": [
       "Pipeline(steps=[('counts', CountVectorizer(analyzer='word', binary=False, decode_error='strict',\n",
       "        dtype=<class 'numpy.int64'>, encoding='utf-8', input='content',\n",
       "        lowercase=True, max_df=1.0, max_features=None, min_df=1,\n",
       "        ngram_range=(1, 2), preprocessor=None, stop_words=None,\n",
       "        str...i2 at 0x125320d08>)), ('multinomialnb', MultinomialNB(alpha=1.0, class_prior=None, fit_prior=True))])"
      ]
     },
     "execution_count": 87,
     "metadata": {},
     "output_type": "execute_result"
    }
   ],
   "source": [
    "p = Pipeline(steps=[('counts', CountVectorizer(ngram_range=(1, 2))),\n",
    "                ('feature_selection', SelectKBest(chi2, k='10000')),\n",
    "                ('multinomialnb', MultinomialNB())])\n",
    "\n",
    "p.fit(x_train, y_train)"
   ]
  },
  {
   "cell_type": "markdown",
   "metadata": {},
   "source": [
    "## Pipeline + Feature Selection"
   ]
  },
  {
   "cell_type": "code",
   "execution_count": 88,
   "metadata": {
    "scrolled": true
   },
   "outputs": [
    {
     "name": "stdout",
     "output_type": "stream",
     "text": [
      "Fitting 3 folds for each of 36 candidates, totalling 108 fits\n"
     ]
    },
    {
     "name": "stderr",
     "output_type": "stream",
     "text": [
      "[Parallel(n_jobs=-1)]: Done  34 tasks      | elapsed:   55.3s\n",
      "[Parallel(n_jobs=-1)]: Done 108 out of 108 | elapsed:  2.6min finished\n"
     ]
    },
    {
     "data": {
      "text/plain": [
       "GridSearchCV(cv=None, error_score='raise',\n",
       "       estimator=Pipeline(steps=[('counts', CountVectorizer(analyzer='word', binary=False, decode_error='strict',\n",
       "        dtype=<class 'numpy.int64'>, encoding='utf-8', input='content',\n",
       "        lowercase=True, max_df=1.0, max_features=None, min_df=1,\n",
       "        ngram_range=(1, 2), preprocessor=None, stop_words=None,\n",
       "        str...i2 at 0x125320d08>)), ('multinomialnb', MultinomialNB(alpha=1.0, class_prior=None, fit_prior=True))]),\n",
       "       fit_params={}, iid=True, n_jobs=-1,\n",
       "       param_grid={'counts__max_df': (0.5, 0.75, 1.0), 'counts__min_df': (0, 1, 2), 'counts__lowercase': (True, False), 'counts__ngram_range': ((1, 1), (1, 2))},\n",
       "       pre_dispatch='2*n_jobs', refit=True, return_train_score=True,\n",
       "       scoring=None, verbose=1)"
      ]
     },
     "execution_count": 88,
     "metadata": {},
     "output_type": "execute_result"
    }
   ],
   "source": [
    "from sklearn.feature_extraction.text import CountVectorizer\n",
    "from sklearn.naive_bayes import MultinomialNB\n",
    "from sklearn.pipeline import Pipeline\n",
    "from sklearn.feature_selection import SelectKBest\n",
    "from sklearn.feature_selection import chi2\n",
    "# p = Pipeline(steps=[('counts', CountVectorizer(ngram_range=(1, 2))),\n",
    "#                     ('feature_selection', SelectKBest(chi2, k=10000)), # Select features according to the k highest scores.\n",
    "#                     ('tfidf', TfidfTransformer()),\n",
    "#                     ('clf', SGDClassifier())])\n",
    "# p = Pipeline(steps=[('counts', CountVectorizer()),\n",
    "#                 ('feature_selection', SelectKBest(chi2, k='5000')),\n",
    "#                 ('multinomialnb', MultinomialNB())])\n",
    "parameters = {\n",
    "    'counts__max_df': (0.5, 0.75,1.0),\n",
    "    'counts__min_df': (0,1,2),\n",
    "#    'counts__token_pattern': ('(?u)\\b\\w\\w+\\b', '(?u)\\b\\w\\w+\\b'),\n",
    "    'counts__lowercase' : (True, False),\n",
    "    'counts__ngram_range': ((1,1), (1,2)),\n",
    "#    'feature_selection__k': (1000, 10000, 100000)\n",
    "\n",
    "    }\n",
    "# p.fit(x_train, y_train)\n",
    "grid_search = GridSearchCV(p, parameters, n_jobs=-1, verbose=1)\n",
    "\n",
    "grid_search.fit(x_train, y_train)\n",
    "\n",
    "# print(\"Best score: %0.3f\" % grid_search.best_score_)\n",
    "# print(\"Best parameters set:\")\n",
    "# best_parameters = grid_search.best_estimator_.get_params()\n",
    "# for param_name in sorted(parameters.keys()):\n",
    "#     print(\"\\t%s: %r\" % (param_name, best_parameters[param_name]))\n",
    "# print(\"Performing grid search...\")\n",
    "# print(\"pipeline:\", [name for name, _ in p.steps])\n",
    "# print(\"parameters:\")\n",
    "# pprint(parameters)\n",
    "# t0 = time()\n",
    "# grid_search.fit(x_train, y_train)\n",
    "# print(\"done in %0.3fs\" % (time() - t0))\n",
    "# print()\n",
    "\n",
    "# print(\"Best score: %0.3f\" % grid_search.best_score_)\n",
    "# print(\"Best parameters set:\")\n",
    "# best_parameters = grid_search.best_estimator_.get_params()\n",
    "# for param_name in sorted(parameters.keys()):\n",
    "#     print(\"\\t%s: %r\" % (param_name, best_parametders[param_name]))"
   ]
  },
  {
   "cell_type": "code",
   "execution_count": 89,
   "metadata": {},
   "outputs": [
    {
     "name": "stdout",
     "output_type": "stream",
     "text": [
      "Best score: 0.715\n",
      "Best parameters set:\n",
      "\tcounts__lowercase: True\n",
      "\tcounts__max_df: 1.0\n",
      "\tcounts__min_df: 2\n",
      "\tcounts__ngram_range: (1, 2)\n"
     ]
    }
   ],
   "source": [
    "print(\"Best score: %0.3f\" % grid_search.best_score_)\n",
    "print(\"Best parameters set:\")\n",
    "best_parameters = grid_search.best_estimator_.get_params()\n",
    "for param_name in sorted(parameters.keys()):\n",
    "    print(\"\\t%s: %r\" % (param_name, best_parameters[param_name]))"
   ]
  },
  {
   "cell_type": "code",
   "execution_count": 91,
   "metadata": {},
   "outputs": [
    {
     "data": {
      "text/plain": [
       "Pipeline(steps=[('counts', CountVectorizer(analyzer='word', binary=False, decode_error='strict',\n",
       "        dtype=<class 'numpy.int64'>, encoding='utf-8', input='content',\n",
       "        lowercase=True, max_df=1.0, max_features=None, min_df=2,\n",
       "        ngram_range=(1, 2), preprocessor=None, stop_words=None,\n",
       "        str...i2 at 0x125320d08>)), ('multinomialnb', MultinomialNB(alpha=1.0, class_prior=None, fit_prior=True))])"
      ]
     },
     "execution_count": 91,
     "metadata": {},
     "output_type": "execute_result"
    }
   ],
   "source": [
    "grid_search.best_estimator_"
   ]
  },
  {
   "cell_type": "markdown",
   "metadata": {},
   "source": [
    "## Cross validate pipeline "
   ]
  },
  {
   "cell_type": "code",
   "execution_count": 92,
   "metadata": {},
   "outputs": [
    {
     "name": "stdout",
     "output_type": "stream",
     "text": [
      "scores: [0.69230769230769229, 0.68000000000000005, 0.68000000000000005, 0.64000000000000001, 0.71999999999999997, 0.76000000000000001, 0.68000000000000005, 0.76000000000000001, 0.68000000000000005, 0.68000000000000005, 0.71999999999999997, 0.71999999999999997, 0.70833333333333337, 0.625, 0.79166666666666663, 0.75, 0.70833333333333337, 0.66666666666666663, 0.75, 0.75]\n",
      "mean  : 0.708115384615\n"
     ]
    }
   ],
   "source": [
    "scores = cross_val_score(p, x_test, y_test, cv=20)\n",
    "print(\"scores:\",list(scores))\n",
    "print(\"mean  :\",scores.mean())"
   ]
  },
  {
   "cell_type": "code",
   "execution_count": null,
   "metadata": {
    "collapsed": true
   },
   "outputs": [],
   "source": [
    "grid_search.best_estimator_"
   ]
  },
  {
   "cell_type": "code",
   "execution_count": null,
   "metadata": {
    "collapsed": true
   },
   "outputs": [],
   "source": [
    "len(max(X))"
   ]
  },
  {
   "cell_type": "markdown",
   "metadata": {},
   "source": [
    "## Checking Imbalance"
   ]
  },
  {
   "cell_type": "code",
   "execution_count": 12,
   "metadata": {},
   "outputs": [
    {
     "name": "stdout",
     "output_type": "stream",
     "text": [
      "0     491\n",
      "1    1001\n",
      "dtype: int64\n"
     ]
    },
    {
     "data": {
      "text/plain": [
       "<matplotlib.text.Text at 0x12815c7f0>"
      ]
     },
     "execution_count": 12,
     "metadata": {},
     "output_type": "execute_result"
    },
    {
     "data": {
      "image/png": "[encoded data removed]",
      "text/plain": [
       "<matplotlib.figure.Figure at 0x1280f9b38>"
      ]
     },
     "metadata": {},
     "output_type": "display_data"
    }
   ],
   "source": [
    "import pandas as pd\n",
    "\n",
    "s = pd.Series(y)\n",
    "print(s.value_counts().sort_index())\n",
    "axes = s.value_counts().sort_index().plot(kind='bar')\n",
    "axes.set_xlabel('Male or Female')\n",
    "axes.set_ylabel('Prevalance')\n",
    "axes.set_title('Prevalence for Male/Female Classes')"
   ]
  },
  {
   "cell_type": "markdown",
   "metadata": {},
   "source": [
    "# Preparing the text data"
   ]
  },
  {
   "cell_type": "code",
   "execution_count": 13,
   "metadata": {
    "collapsed": true
   },
   "outputs": [],
   "source": [
    "MAX_NB_WORDS = 20000\n",
    "MAX_SEQUENCE_LENGTH = 2000\n",
    "EMBEDDING_DIM = 50\n",
    "hidden_dims = 250\n",
    "VALIDATION_SPLIT = 0.2"
   ]
  },
  {
   "cell_type": "markdown",
   "metadata": {},
   "source": [
    "## Tokenize training set"
   ]
  },
  {
   "cell_type": "code",
   "execution_count": 14,
   "metadata": {},
   "outputs": [
    {
     "name": "stderr",
     "output_type": "stream",
     "text": [
      "/Users/Tai/anaconda3/envs/dl/lib/python3.6/site-packages/keras/preprocessing/text.py:89: UserWarning: The `nb_words` argument in `Tokenizer` has been renamed `num_words`.\n",
      "  warnings.warn('The `nb_words` argument in `Tokenizer` '\n"
     ]
    },
    {
     "name": "stdout",
     "output_type": "stream",
     "text": [
      "Found 39753 unique tokens.\n",
      "Shape of data tensor: (1492, 2000)\n",
      "Shape of label tensor: (1492, 2)\n"
     ]
    }
   ],
   "source": [
    "from keras.preprocessing.text import Tokenizer\n",
    "from keras.preprocessing.sequence import pad_sequences\n",
    "\n",
    "tokenizer = Tokenizer(nb_words=MAX_NB_WORDS)\n",
    "tokenizer.fit_on_texts(X)\n",
    "sequences = tokenizer.texts_to_sequences(X)\n",
    "\n",
    "word_index = tokenizer.word_index\n",
    "print('Found %s unique tokens.' % len(word_index))\n",
    "\n",
    "data = pad_sequences(sequences, maxlen=MAX_SEQUENCE_LENGTH)\n",
    "\n",
    "labels = to_categorical(np.asarray(y))\n",
    "print('Shape of data tensor:', data.shape)\n",
    "print('Shape of label tensor:', labels.shape)\n"
   ]
  },
  {
   "cell_type": "code",
   "execution_count": 15,
   "metadata": {
    "collapsed": true
   },
   "outputs": [],
   "source": [
    "# split the data into a training set and a validation set\n",
    "indices = np.arange(data.shape[0])\n",
    "np.random.shuffle(indices)\n",
    "data = data[indices]\n",
    "labels = labels[indices]\n",
    "nb_validation_samples = int(VALIDATION_SPLIT * data.shape[0])\n",
    "\n",
    "x_train = data[:-nb_validation_samples]\n",
    "y_train = labels[:-nb_validation_samples]\n",
    "x_test = data[-nb_validation_samples:]\n",
    "y_test = labels[-nb_validation_samples:]\n"
   ]
  },
  {
   "cell_type": "markdown",
   "metadata": {},
   "source": [
    "## Preparing embedding layers"
   ]
  },
  {
   "cell_type": "code",
   "execution_count": 16,
   "metadata": {},
   "outputs": [
    {
     "name": "stdout",
     "output_type": "stream",
     "text": [
      "Found 400000 word vectors.\n"
     ]
    }
   ],
   "source": [
    "import os\n",
    "BASE_DIR = ''\n",
    "GLOVE_DIR = BASE_DIR + 'glove.6B/'\n",
    "TEXT_DATA_DIR = BASE_DIR + '/20_newsgroup/'\n",
    "embeddings_index = {}\n",
    "f = open(os.path.join(GLOVE_DIR, 'glove.6B.100d.txt'))\n",
    "for line in f:\n",
    "    values = line.split()\n",
    "    word = values[0]\n",
    "    coefs = np.asarray(values[1:], dtype='float32')\n",
    "    embeddings_index[word] = coefs\n",
    "f.close()\n",
    "\n",
    "print('Found %s word vectors.' % len(embeddings_index))"
   ]
  },
  {
   "cell_type": "code",
   "execution_count": 17,
   "metadata": {
    "collapsed": true
   },
   "outputs": [],
   "source": [
    "embedding_matrix = np.zeros((len(word_index) + 1, EMBEDDING_DIM))\n",
    "for word, i in word_index.items():\n",
    "    embedding_vector = word_index.get(word)\n",
    "    if embedding_vector is not None:\n",
    "        # words not found in embedding index will be all-zeros.\n",
    "        embedding_matrix[i] = embedding_vector"
   ]
  },
  {
   "cell_type": "markdown",
   "metadata": {},
   "source": [
    "## Build DL model"
   ]
  },
  {
   "cell_type": "code",
   "execution_count": 18,
   "metadata": {
    "collapsed": true
   },
   "outputs": [],
   "source": [
    "from keras.layers import Input, Embedding, LSTM, Dense, Conv1D, Flatten, MaxPooling1D, MaxPool2D\n",
    "from keras.models import Model\n",
    "\n",
    "def cnn_model():\n",
    "    embedding_layer = Embedding(len(word_index) + 1,\n",
    "                                EMBEDDING_DIM,\n",
    "                                weights=[embedding_matrix],\n",
    "                                input_length=MAX_SEQUENCE_LENGTH,\n",
    "                                trainable=False)\n",
    "\n",
    "    sequence_input = Input(shape=(MAX_SEQUENCE_LENGTH,), dtype='int32')\n",
    "    embedded_sequences = embedding_layer(sequence_input)\n",
    "    x = Conv1D(128, 5, activation='relu')(embedded_sequences)\n",
    "    x = MaxPooling1D(5)(x)\n",
    "    x = Conv1D(128, 5, activation='relu')(x)\n",
    "    x = MaxPooling1D(5)(x)\n",
    "    x = Conv1D(128, 5, activation='relu')(x)\n",
    "    x = MaxPooling1D(35)(x)  # global max pooling\n",
    "    x = Flatten()(x)\n",
    "    x = Dense(128, activation='relu')(x)\n",
    "    preds = Dense(2, activation='softmax')(x)\n",
    "    \n",
    "    model = Model(sequence_input, preds)\n",
    "    return model\n",
    "# model_test.summary()"
   ]
  },
  {
   "cell_type": "code",
   "execution_count": 19,
   "metadata": {},
   "outputs": [
    {
     "name": "stdout",
     "output_type": "stream",
     "text": [
      "_________________________________________________________________\n",
      "Layer (type)                 Output Shape              Param #   \n",
      "=================================================================\n",
      "input_1 (InputLayer)         (None, 2000)              0         \n",
      "_________________________________________________________________\n",
      "embedding_1 (Embedding)      (None, 2000, 50)          1987700   \n",
      "_________________________________________________________________\n",
      "conv1d_1 (Conv1D)            (None, 1996, 128)         32128     \n",
      "_________________________________________________________________\n",
      "max_pooling1d_1 (MaxPooling1 (None, 399, 128)          0         \n",
      "_________________________________________________________________\n",
      "conv1d_2 (Conv1D)            (None, 395, 128)          82048     \n",
      "_________________________________________________________________\n",
      "max_pooling1d_2 (MaxPooling1 (None, 79, 128)           0         \n",
      "_________________________________________________________________\n",
      "conv1d_3 (Conv1D)            (None, 75, 128)           82048     \n",
      "_________________________________________________________________\n",
      "max_pooling1d_3 (MaxPooling1 (None, 2, 128)            0         \n",
      "_________________________________________________________________\n",
      "flatten_1 (Flatten)          (None, 256)               0         \n",
      "_________________________________________________________________\n",
      "dense_1 (Dense)              (None, 128)               32896     \n",
      "_________________________________________________________________\n",
      "dense_2 (Dense)              (None, 2)                 258       \n",
      "=================================================================\n",
      "Total params: 2,217,078.0\n",
      "Trainable params: 229,378.0\n",
      "Non-trainable params: 1,987,700.0\n",
      "_________________________________________________________________\n"
     ]
    }
   ],
   "source": [
    "cnn_model().summary()"
   ]
  },
  {
   "cell_type": "code",
   "execution_count": 20,
   "metadata": {},
   "outputs": [
    {
     "data": {
      "text/plain": [
       "array([ 1.51934827,  0.74525475])"
      ]
     },
     "execution_count": 20,
     "metadata": {},
     "output_type": "execute_result"
    }
   ],
   "source": [
    "# Setting the class weight as a methodology to handle imbalance class\n",
    "from sklearn.utils import class_weight\n",
    "class_weight = class_weight.compute_class_weight('balanced', np.unique(y), y)\n",
    "class_weight"
   ]
  },
  {
   "cell_type": "markdown",
   "metadata": {},
   "source": [
    "# Overfitting model"
   ]
  },
  {
   "cell_type": "code",
   "execution_count": 21,
   "metadata": {},
   "outputs": [
    {
     "name": "stdout",
     "output_type": "stream",
     "text": [
      "Train on 4 samples, validate on 1 samples\n",
      "Epoch 1/10\n",
      "4/4 [==============================] - 0s - loss: 1.0603 - top_k_categorical_accuracy: 1.0000 - val_loss: 1.1921e-07 - val_top_k_categorical_accuracy: 1.0000\n",
      "Epoch 2/10\n",
      "4/4 [==============================] - 0s - loss: 12.0886 - top_k_categorical_accuracy: 1.0000 - val_loss: 1.1921e-07 - val_top_k_categorical_accuracy: 1.0000\n",
      "Epoch 3/10\n",
      "4/4 [==============================] - 0s - loss: 12.0886 - top_k_categorical_accuracy: 1.0000 - val_loss: 1.1921e-07 - val_top_k_categorical_accuracy: 1.0000\n",
      "Epoch 4/10\n",
      "4/4 [==============================] - 0s - loss: 12.0886 - top_k_categorical_accuracy: 1.0000 - val_loss: 1.1921e-07 - val_top_k_categorical_accuracy: 1.0000\n",
      "Epoch 5/10\n",
      "4/4 [==============================] - 0s - loss: 12.0886 - top_k_categorical_accuracy: 1.0000 - val_loss: 1.1921e-07 - val_top_k_categorical_accuracy: 1.0000\n",
      "Epoch 6/10\n",
      "4/4 [==============================] - 0s - loss: 12.0886 - top_k_categorical_accuracy: 1.0000 - val_loss: 1.1921e-07 - val_top_k_categorical_accuracy: 1.0000\n",
      "Epoch 7/10\n",
      "4/4 [==============================] - 0s - loss: 12.0886 - top_k_categorical_accuracy: 1.0000 - val_loss: 1.1921e-07 - val_top_k_categorical_accuracy: 1.0000\n",
      "Epoch 8/10\n",
      "4/4 [==============================] - 0s - loss: 12.0886 - top_k_categorical_accuracy: 1.0000 - val_loss: 1.1921e-07 - val_top_k_categorical_accuracy: 1.0000\n",
      "Epoch 9/10\n",
      "4/4 [==============================] - 0s - loss: 12.0886 - top_k_categorical_accuracy: 1.0000 - val_loss: 1.1921e-07 - val_top_k_categorical_accuracy: 1.0000\n",
      "Epoch 10/10\n",
      "4/4 [==============================] - 0s - loss: 12.0886 - top_k_categorical_accuracy: 1.0000 - val_loss: 1.1921e-07 - val_top_k_categorical_accuracy: 1.0000\n"
     ]
    },
    {
     "data": {
      "text/plain": [
       "<keras.callbacks.History at 0x1341e08d0>"
      ]
     },
     "execution_count": 21,
     "metadata": {},
     "output_type": "execute_result"
    }
   ],
   "source": [
    "from keras.metrics import categorical_accuracy,sparse_categorical_accuracy,top_k_categorical_accuracy,binary_accuracy\n",
    "\n",
    "\n",
    "model0 = cnn_model()\n",
    "model0.compile(optimizer='rmsprop', loss='categorical_crossentropy', metrics=[top_k_categorical_accuracy])\n",
    "model0.fit(x_train[:5], y_train[:5], validation_split = .1,\n",
    "               epochs=10, batch_size=64, class_weight=class_weight)\n"
   ]
  },
  {
   "cell_type": "markdown",
   "metadata": {},
   "source": [
    "## Metrics test"
   ]
  },
  {
   "cell_type": "code",
   "execution_count": 30,
   "metadata": {
    "collapsed": true
   },
   "outputs": [],
   "source": [
    "metrics = ['acc', binary_accuracy, categorical_accuracy, sparse_categorical_accuracy, top_k_categorical_accuracy]\n",
    "def test_metric(metrics):\n",
    "    acc = []\n",
    "    models = []\n",
    "    for metric in metrics:\n",
    "        model = cnn_model()\n",
    "        model.compile(optimizer='rmsprop', loss='categorical_crossentropy', metrics=[metric])\n",
    "        model.fit(x_train, y_train, validation_split = .2,\n",
    "                       epochs=10, batch_size=64, class_weight=class_weight)\n",
    "        models.append(model)\n",
    "        scores = model.evaluate(x_test,y_test)\n",
    "        acc.append([metric, scores])\n",
    "        print(\"\\n%s: %.2f%%\" % (model.metrics_names[1], scores[1]*100))\n",
    "    return acc, models"
   ]
  },
  {
   "cell_type": "code",
   "execution_count": 31,
   "metadata": {
    "scrolled": true
   },
   "outputs": [
    {
     "name": "stdout",
     "output_type": "stream",
     "text": [
      "Train on 955 samples, validate on 239 samples\n",
      "Epoch 1/10\n",
      "955/955 [==============================] - 12s - loss: 4.7781 - acc: 0.6618 - val_loss: 5.3365 - val_acc: 0.6611\n",
      "Epoch 2/10\n",
      "955/955 [==============================] - 11s - loss: 5.0701 - acc: 0.6702 - val_loss: 5.3369 - val_acc: 0.6611\n",
      "Epoch 3/10\n",
      "955/955 [==============================] - 12s - loss: 5.0659 - acc: 0.6733 - val_loss: 5.5325 - val_acc: 0.6485\n",
      "Epoch 4/10\n",
      "955/955 [==============================] - 12s - loss: 5.0612 - acc: 0.6733 - val_loss: 5.3390 - val_acc: 0.6653\n",
      "Epoch 5/10\n",
      "955/955 [==============================] - 12s - loss: 5.0494 - acc: 0.6754 - val_loss: 5.3381 - val_acc: 0.6653\n",
      "Epoch 6/10\n",
      "955/955 [==============================] - 12s - loss: 5.0498 - acc: 0.6733 - val_loss: 5.3391 - val_acc: 0.6653\n",
      "Epoch 7/10\n",
      "955/955 [==============================] - 12s - loss: 5.0496 - acc: 0.6743 - val_loss: 5.3384 - val_acc: 0.6653\n",
      "Epoch 8/10\n",
      "955/955 [==============================] - 12s - loss: 5.0488 - acc: 0.6743 - val_loss: 5.3394 - val_acc: 0.6611\n",
      "Epoch 9/10\n",
      "955/955 [==============================] - 12s - loss: 4.9811 - acc: 0.6764 - val_loss: 5.3387 - val_acc: 0.6653\n",
      "Epoch 10/10\n",
      "955/955 [==============================] - 12s - loss: 5.0484 - acc: 0.6733 - val_loss: 5.3392 - val_acc: 0.6611\n",
      "298/298 [==============================] - 1s     \n",
      "\n",
      "acc: 67.45%\n",
      "Train on 955 samples, validate on 239 samples\n",
      "Epoch 1/10\n",
      "955/955 [==============================] - 12s - loss: 10.3988 - binary_accuracy: 0.3325 - val_loss: 10.5695 - val_binary_accuracy: 0.3389\n",
      "Epoch 2/10\n",
      "955/955 [==============================] - 12s - loss: 10.6672 - binary_accuracy: 0.3277 - val_loss: 10.5704 - val_binary_accuracy: 0.3389\n",
      "Epoch 3/10\n",
      "955/955 [==============================] - 12s - loss: 10.6672 - binary_accuracy: 0.3277 - val_loss: 10.5713 - val_binary_accuracy: 0.3389\n",
      "Epoch 4/10\n",
      "955/955 [==============================] - 13s - loss: 10.6672 - binary_accuracy: 0.3277 - val_loss: 10.5713 - val_binary_accuracy: 0.3389\n",
      "Epoch 5/10\n",
      "955/955 [==============================] - 13s - loss: 10.6673 - binary_accuracy: 0.3257 - val_loss: 10.5758 - val_binary_accuracy: 0.3389\n",
      "Epoch 6/10\n",
      "955/955 [==============================] - 13s - loss: 10.6672 - binary_accuracy: 0.3277 - val_loss: 10.5762 - val_binary_accuracy: 0.3389\n",
      "Epoch 7/10\n",
      "955/955 [==============================] - 14s - loss: 10.6672 - binary_accuracy: 0.3277 - val_loss: 10.5744 - val_binary_accuracy: 0.3389\n",
      "Epoch 8/10\n",
      "955/955 [==============================] - 12s - loss: 10.6672 - binary_accuracy: 0.3277 - val_loss: 10.5762 - val_binary_accuracy: 0.3389\n",
      "Epoch 9/10\n",
      "955/955 [==============================] - 12s - loss: 10.6673 - binary_accuracy: 0.3277 - val_loss: 10.5735 - val_binary_accuracy: 0.3389\n",
      "Epoch 10/10\n",
      "955/955 [==============================] - 12s - loss: 10.6673 - binary_accuracy: 0.3277 - val_loss: 10.5681 - val_binary_accuracy: 0.3389\n",
      "298/298 [==============================] - 1s     \n",
      "\n",
      "binary_accuracy: 32.55%\n",
      "Train on 955 samples, validate on 239 samples\n",
      "Epoch 1/10\n",
      "955/955 [==============================] - 14s - loss: 10.0314 - categorical_accuracy: 0.3497 - val_loss: 10.5777 - val_categorical_accuracy: 0.3389\n",
      "Epoch 2/10\n",
      "955/955 [==============================] - 14s - loss: 10.6672 - categorical_accuracy: 0.3277 - val_loss: 10.5754 - val_categorical_accuracy: 0.3389\n",
      "Epoch 3/10\n",
      "955/955 [==============================] - 12s - loss: 10.6672 - categorical_accuracy: 0.3277 - val_loss: 10.5715 - val_categorical_accuracy: 0.3389\n",
      "Epoch 4/10\n",
      "955/955 [==============================] - 12s - loss: 10.6672 - categorical_accuracy: 0.3277 - val_loss: 10.5702 - val_categorical_accuracy: 0.3389\n",
      "Epoch 5/10\n",
      "955/955 [==============================] - 12s - loss: 10.6672 - categorical_accuracy: 0.3277 - val_loss: 10.5691 - val_categorical_accuracy: 0.3389\n",
      "Epoch 6/10\n",
      "955/955 [==============================] - 12s - loss: 10.6672 - categorical_accuracy: 0.3277 - val_loss: 10.5679 - val_categorical_accuracy: 0.3389\n",
      "Epoch 7/10\n",
      "955/955 [==============================] - 13s - loss: 10.6672 - categorical_accuracy: 0.3277 - val_loss: 10.5777 - val_categorical_accuracy: 0.3389\n",
      "Epoch 8/10\n",
      "955/955 [==============================] - 12s - loss: 10.6674 - categorical_accuracy: 0.3277 - val_loss: 10.5681 - val_categorical_accuracy: 0.3389\n",
      "Epoch 9/10\n",
      "955/955 [==============================] - 13s - loss: 10.6672 - categorical_accuracy: 0.3277 - val_loss: 10.5708 - val_categorical_accuracy: 0.3389\n",
      "Epoch 10/10\n",
      "955/955 [==============================] - 13s - loss: 10.6672 - categorical_accuracy: 0.3277 - val_loss: 10.5646 - val_categorical_accuracy: 0.3389\n",
      "298/298 [==============================] - 1s     \n",
      "\n",
      "categorical_accuracy: 32.55%\n",
      "Train on 955 samples, validate on 239 samples\n",
      "Epoch 1/10\n",
      "955/955 [==============================] - 14s - loss: 10.1381 - sparse_categorical_accuracy: 0.0649 - val_loss: 10.5705 - val_sparse_categorical_accuracy: 0.0000e+00\n",
      "Epoch 2/10\n",
      "955/955 [==============================] - 14s - loss: 10.6672 - sparse_categorical_accuracy: 0.0000e+00 - val_loss: 10.5738 - val_sparse_categorical_accuracy: 0.0000e+00\n",
      "Epoch 3/10\n",
      "955/955 [==============================] - 12s - loss: 10.6672 - sparse_categorical_accuracy: 0.0000e+00 - val_loss: 10.5758 - val_sparse_categorical_accuracy: 0.0000e+00\n",
      "Epoch 4/10\n",
      "955/955 [==============================] - 12s - loss: 10.6672 - sparse_categorical_accuracy: 0.0000e+00 - val_loss: 10.5789 - val_sparse_categorical_accuracy: 0.0000e+00\n",
      "Epoch 5/10\n",
      "955/955 [==============================] - 12s - loss: 10.6672 - sparse_categorical_accuracy: 0.0000e+00 - val_loss: 10.5822 - val_sparse_categorical_accuracy: 0.0000e+00\n",
      "Epoch 6/10\n",
      "955/955 [==============================] - 12s - loss: 10.6672 - sparse_categorical_accuracy: 0.0000e+00 - val_loss: 10.5840 - val_sparse_categorical_accuracy: 0.0000e+00\n",
      "Epoch 7/10\n",
      "955/955 [==============================] - 12s - loss: 10.6671 - sparse_categorical_accuracy: 0.0000e+00 - val_loss: 10.5859 - val_sparse_categorical_accuracy: 0.0000e+00\n",
      "Epoch 8/10\n",
      "955/955 [==============================] - 15s - loss: 10.6671 - sparse_categorical_accuracy: 0.0000e+00 - val_loss: 10.5878 - val_sparse_categorical_accuracy: 0.0000e+00\n",
      "Epoch 9/10\n",
      "955/955 [==============================] - 15s - loss: 10.6672 - sparse_categorical_accuracy: 0.0000e+00 - val_loss: 10.5900 - val_sparse_categorical_accuracy: 0.0000e+00\n",
      "Epoch 10/10\n",
      "955/955 [==============================] - 14s - loss: 10.6672 - sparse_categorical_accuracy: 0.0000e+00 - val_loss: 10.5918 - val_sparse_categorical_accuracy: 0.0000e+00\n",
      "298/298 [==============================] - 1s     \n",
      "\n",
      "sparse_categorical_accuracy: 0.00%\n",
      "Train on 955 samples, validate on 239 samples\n",
      "Epoch 1/10\n",
      "955/955 [==============================] - 13s - loss: 5.1771 - top_k_categorical_accuracy: 1.0000 - val_loss: 5.3366 - val_top_k_categorical_accuracy: 1.0000\n",
      "Epoch 2/10\n",
      "955/955 [==============================] - 13s - loss: 6.0978 - top_k_categorical_accuracy: 1.0000 - val_loss: 6.3693 - val_top_k_categorical_accuracy: 1.0000\n",
      "Epoch 3/10\n",
      "955/955 [==============================] - 13s - loss: 6.2471 - top_k_categorical_accuracy: 1.0000 - val_loss: 6.6587 - val_top_k_categorical_accuracy: 1.0000\n",
      "Epoch 4/10\n",
      "955/955 [==============================] - 15s - loss: 6.4141 - top_k_categorical_accuracy: 1.0000 - val_loss: 6.6591 - val_top_k_categorical_accuracy: 1.0000\n",
      "Epoch 5/10\n",
      "955/955 [==============================] - 15s - loss: 6.4309 - top_k_categorical_accuracy: 1.0000 - val_loss: 6.6594 - val_top_k_categorical_accuracy: 1.0000\n",
      "Epoch 6/10\n",
      "955/955 [==============================] - 16s - loss: 8.4552 - top_k_categorical_accuracy: 1.0000 - val_loss: 10.5967 - val_top_k_categorical_accuracy: 1.0000\n",
      "Epoch 7/10\n",
      "955/955 [==============================] - 15s - loss: 10.6672 - top_k_categorical_accuracy: 1.0000 - val_loss: 10.5966 - val_top_k_categorical_accuracy: 1.0000\n",
      "Epoch 8/10\n",
      "955/955 [==============================] - 13s - loss: 10.6672 - top_k_categorical_accuracy: 1.0000 - val_loss: 10.5966 - val_top_k_categorical_accuracy: 1.0000\n",
      "Epoch 9/10\n",
      "955/955 [==============================] - 13s - loss: 10.6672 - top_k_categorical_accuracy: 1.0000 - val_loss: 10.5966 - val_top_k_categorical_accuracy: 1.0000\n",
      "Epoch 10/10\n",
      "955/955 [==============================] - 14s - loss: 10.6672 - top_k_categorical_accuracy: 1.0000 - val_loss: 10.5966 - val_top_k_categorical_accuracy: 1.0000\n",
      "298/298 [==============================] - 1s     \n",
      "\n",
      "top_k_categorical_accuracy: 100.00%\n"
     ]
    }
   ],
   "source": [
    "acc_list, model_list = test_metric(metrics)"
   ]
  },
  {
   "cell_type": "code",
   "execution_count": 36,
   "metadata": {},
   "outputs": [
    {
     "name": "stdout",
     "output_type": "stream",
     "text": [
      "['acc', [5.125252920509185, 0.67449664349523963]]\n",
      "[<function binary_accuracy at 0x1231b4ea0>, [10.772753619507656, 0.32550335575470191]]\n",
      "[<function categorical_accuracy at 0x1231b4f28>, [10.772751571348049, 0.32550335575470191]]\n",
      "[<function sparse_categorical_accuracy at 0x1231c7048>, [10.772741432958002, 0.0]]\n",
      "[<function top_k_categorical_accuracy at 0x1231c70d0>, [10.772738053494653, 1.0]]\n"
     ]
    }
   ],
   "source": [
    "for i in acc_list:\n",
    "    print(i)"
   ]
  },
  {
   "cell_type": "code",
   "execution_count": 48,
   "metadata": {
    "collapsed": true
   },
   "outputs": [],
   "source": [
    "metrics = ['acc', 'binary_accuracy', 'categorical_accuracy', 'sparse_categorical_accuracy', 'top_k_categorical_accuracy']"
   ]
  },
  {
   "cell_type": "code",
   "execution_count": 49,
   "metadata": {
    "scrolled": true
   },
   "outputs": [
    {
     "name": "stdout",
     "output_type": "stream",
     "text": [
      "Model 0 : acc\n",
      "acc\n"
     ]
    },
    {
     "data": {
      "image/png": "[encoded data removed]",
      "text/plain": [
       "<matplotlib.figure.Figure at 0x13b854710>"
      ]
     },
     "metadata": {},
     "output_type": "display_data"
    },
    {
     "name": "stdout",
     "output_type": "stream",
     "text": [
      "Model 1 : binary_accuracy\n",
      "binary_accuracy\n"
     ]
    },
    {
     "data": {
      "image/png": "[encoded data removed]",
      "text/plain": [
       "<matplotlib.figure.Figure at 0x13b7eb160>"
      ]
     },
     "metadata": {},
     "output_type": "display_data"
    },
    {
     "name": "stdout",
     "output_type": "stream",
     "text": [
      "Model 2 : categorical_accuracy\n",
      "categorical_accuracy\n"
     ]
    },
    {
     "data": {
      "image/png": "[encoded data removed]",
      "text/plain": [
       "<matplotlib.figure.Figure at 0x13c41da20>"
      ]
     },
     "metadata": {},
     "output_type": "display_data"
    },
    {
     "name": "stdout",
     "output_type": "stream",
     "text": [
      "Model 3 : sparse_categorical_accuracy\n",
      "sparse_categorical_accuracy\n"
     ]
    },
    {
     "data": {
      "image/png": "[encoded data removed]",
      "text/plain": [
       "<matplotlib.figure.Figure at 0x13bdb9198>"
      ]
     },
     "metadata": {},
     "output_type": "display_data"
    },
    {
     "name": "stdout",
     "output_type": "stream",
     "text": [
      "Model 4 : top_k_categorical_accuracy\n",
      "top_k_categorical_accuracy\n"
     ]
    },
    {
     "data": {
      "image/png": "[encoded data removed]",
      "text/plain": [
       "<matplotlib.figure.Figure at 0x13bcab9e8>"
      ]
     },
     "metadata": {},
     "output_type": "display_data"
    }
   ],
   "source": [
    "count=0\n",
    "for i,metric in enumerate(metrics):\n",
    "    print(\"Model\", count , \":\",metric)\n",
    "    plot_acc(model_list[count], metric)\n",
    "    count += 1\n",
    "    plt.show()"
   ]
  },
  {
   "cell_type": "code",
   "execution_count": 172,
   "metadata": {
    "scrolled": true
   },
   "outputs": [
    {
     "name": "stdout",
     "output_type": "stream",
     "text": [
      "Train on 955 samples, validate on 239 samples\n",
      "Epoch 1/2\n",
      "955/955 [==============================] - 14s - loss: 0.6339 - sparse_categorical_accuracy: 0.9822 - top_k_categorical_accuracy: 1.0000 - val_loss: 0.7313 - val_sparse_categorical_accuracy: 1.0000 - val_top_k_categorical_accuracy: 1.0000\n",
      "Epoch 2/2\n",
      "955/955 [==============================] - 12s - loss: 0.6220 - sparse_categorical_accuracy: 1.0000 - top_k_categorical_accuracy: 1.0000 - val_loss: 0.6626 - val_sparse_categorical_accuracy: 1.0000 - val_top_k_categorical_accuracy: 1.0000\n"
     ]
    },
    {
     "data": {
      "text/plain": [
       "<keras.callbacks.History at 0x168efda90>"
      ]
     },
     "execution_count": 172,
     "metadata": {},
     "output_type": "execute_result"
    }
   ],
   "source": [
    "for metric in ['acc', binary_accuracy, categorical_accuracy, sparse_categorical_accuracy, top_k_categorical_accuracy]:\n",
    "model0 = cnn_model()\n",
    "model0.compile(optimizer='rmsprop', loss='categorical_crossentropy', metrics=[sparse_categorical_accuracy, top_k_categorical_accuracy])\n",
    "model0.fit(x_train, y_train, validation_split = .2,\n",
    "               epochs=2, batch_size=64, class_weight=class_weight)\n"
   ]
  },
  {
   "cell_type": "code",
   "execution_count": 179,
   "metadata": {
    "scrolled": false
   },
   "outputs": [
    {
     "name": "stdout",
     "output_type": "stream",
     "text": [
      "Train on 955 samples, validate on 239 samples\n",
      "Epoch 1/10\n",
      "955/955 [==============================] - 14s - loss: 0.6294 - acc: 0.6880 - binary_accuracy: 0.6880 - categorical_accuracy: 0.6880 - val_loss: 0.6699 - val_acc: 0.6234 - val_binary_accuracy: 0.6234 - val_categorical_accuracy: 0.6234\n",
      "Epoch 2/10\n",
      "955/955 [==============================] - 12s - loss: 0.6200 - acc: 0.6880 - binary_accuracy: 0.6880 - categorical_accuracy: 0.6880 - val_loss: 0.6608 - val_acc: 0.6234 - val_binary_accuracy: 0.6234 - val_categorical_accuracy: 0.6234\n",
      "Epoch 3/10\n",
      "955/955 [==============================] - 14s - loss: 0.6281 - acc: 0.6880 - binary_accuracy: 0.6880 - categorical_accuracy: 0.6880 - val_loss: 0.6612 - val_acc: 0.6234 - val_binary_accuracy: 0.6234 - val_categorical_accuracy: 0.6234\n",
      "Epoch 4/10\n",
      "955/955 [==============================] - 13s - loss: 0.6168 - acc: 0.6880 - binary_accuracy: 0.6880 - categorical_accuracy: 0.6880 - val_loss: 0.6591 - val_acc: 0.6234 - val_binary_accuracy: 0.6234 - val_categorical_accuracy: 0.6234\n",
      "Epoch 5/10\n",
      "955/955 [==============================] - 13s - loss: 0.6155 - acc: 0.6880 - binary_accuracy: 0.6880 - categorical_accuracy: 0.6880 - val_loss: 0.6626 - val_acc: 0.6234 - val_binary_accuracy: 0.6234 - val_categorical_accuracy: 0.6234\n",
      "Epoch 6/10\n",
      "955/955 [==============================] - 13s - loss: 0.6115 - acc: 0.6880 - binary_accuracy: 0.6880 - categorical_accuracy: 0.6880 - val_loss: 0.6572 - val_acc: 0.6234 - val_binary_accuracy: 0.6234 - val_categorical_accuracy: 0.6234\n",
      "Epoch 7/10\n",
      "955/955 [==============================] - 13s - loss: 0.6159 - acc: 0.6880 - binary_accuracy: 0.6880 - categorical_accuracy: 0.6880 - val_loss: 0.6584 - val_acc: 0.6234 - val_binary_accuracy: 0.6234 - val_categorical_accuracy: 0.6234\n",
      "Epoch 8/10\n",
      "955/955 [==============================] - 14s - loss: 0.6107 - acc: 0.6880 - binary_accuracy: 0.6880 - categorical_accuracy: 0.6880 - val_loss: 0.6713 - val_acc: 0.6234 - val_binary_accuracy: 0.6234 - val_categorical_accuracy: 0.6234\n",
      "Epoch 9/10\n",
      "955/955 [==============================] - 13s - loss: 0.5987 - acc: 0.6880 - binary_accuracy: 0.6880 - categorical_accuracy: 0.6880 - val_loss: 0.7463 - val_acc: 0.6234 - val_binary_accuracy: 0.6234 - val_categorical_accuracy: 0.6234\n",
      "Epoch 10/10\n",
      "955/955 [==============================] - 14s - loss: 0.6046 - acc: 0.6880 - binary_accuracy: 0.6880 - categorical_accuracy: 0.6880 - val_loss: 0.6516 - val_acc: 0.6234 - val_binary_accuracy: 0.6234 - val_categorical_accuracy: 0.6234\n"
     ]
    },
    {
     "data": {
      "text/plain": [
       "<keras.callbacks.History at 0x16c399f98>"
      ]
     },
     "execution_count": 179,
     "metadata": {},
     "output_type": "execute_result"
    }
   ],
   "source": [
    "model0 = cnn_model()\n",
    "model0.compile(optimizer='rmsprop', loss='categorical_crossentropy', metrics=['acc', binary_accuracy, categorical_accuracy])\n",
    "model0.fit(x_train, y_train, validation_split = .2,\n",
    "               epochs=10, batch_size=64, class_weight=class_weight)"
   ]
  },
  {
   "cell_type": "code",
   "execution_count": 177,
   "metadata": {
    "scrolled": false
   },
   "outputs": [
    {
     "name": "stdout",
     "output_type": "stream",
     "text": [
      "298/298 [==============================] - 1s     \n",
      "\n",
      "sparse_categorical_accuracy: 100.00%\n"
     ]
    }
   ],
   "source": [
    "scores = model0.evaluate(x_test,y_test)\n",
    "print(\"\\n%s: %.2f%%\" % (model0.metrics_names[1], scores[1]*100))"
   ]
  },
  {
   "cell_type": "markdown",
   "metadata": {},
   "source": [
    "## Fitting with different hyperparameters"
   ]
  },
  {
   "cell_type": "code",
   "execution_count": 240,
   "metadata": {
    "collapsed": true
   },
   "outputs": [],
   "source": [
    "def multiple_hyper_train(x_train, y_train, x_test, y_test):\n",
    "    model_list= []\n",
    "    for i,loss_func in enumerate(['categorical_crossentropy','binary_crossentropy']):\n",
    "        for j,optimizer in enumerate(['rmsprop']):\n",
    "            model = cnn_model()\n",
    "            model.compile(optimizer=optimizer,loss=loss_func, metrics=[top_k_categorical_accuracy, sparse_categorical_accuracy])\n",
    "            model.fit(x_train, y_train, validation_split = 0.2, epochs=10, batch_size=128) \n",
    "            model_list.append(model)\n",
    "            scores = model.evaluate(x_test,y_test)\n",
    "            print('------------------------------------------')\n",
    "            print(loss_func, \"+\", optimizer)\n",
    "            print(\"\\n%s: %.2f%%\" % (model.metrics_names[1], scores[1]*100))\n",
    "            print('------------------------------------------')\n",
    "    return model_list"
   ]
  },
  {
   "cell_type": "code",
   "execution_count": 241,
   "metadata": {
    "scrolled": false
   },
   "outputs": [
    {
     "name": "stdout",
     "output_type": "stream",
     "text": [
      "Train on 955 samples, validate on 239 samples\n",
      "Epoch 1/10\n",
      "955/955 [==============================] - 14s - loss: 4.6406 - top_k_categorical_accuracy: 1.0000 - sparse_categorical_accuracy: 0.9309 - val_loss: 4.8734 - val_top_k_categorical_accuracy: 1.0000 - val_sparse_categorical_accuracy: 1.0000\n",
      "Epoch 2/10\n",
      "955/955 [==============================] - 11s - loss: 5.0571 - top_k_categorical_accuracy: 1.0000 - sparse_categorical_accuracy: 1.0000 - val_loss: 4.8733 - val_top_k_categorical_accuracy: 1.0000 - val_sparse_categorical_accuracy: 1.0000\n",
      "Epoch 3/10\n",
      "955/955 [==============================] - 11s - loss: 5.0537 - top_k_categorical_accuracy: 1.0000 - sparse_categorical_accuracy: 1.0000 - val_loss: 4.8733 - val_top_k_categorical_accuracy: 1.0000 - val_sparse_categorical_accuracy: 1.0000\n",
      "Epoch 4/10\n",
      "955/955 [==============================] - 12s - loss: 5.0500 - top_k_categorical_accuracy: 1.0000 - sparse_categorical_accuracy: 1.0000 - val_loss: 4.8733 - val_top_k_categorical_accuracy: 1.0000 - val_sparse_categorical_accuracy: 1.0000\n",
      "Epoch 5/10\n",
      "955/955 [==============================] - 13s - loss: 5.0329 - top_k_categorical_accuracy: 1.0000 - sparse_categorical_accuracy: 0.9874 - val_loss: 4.8744 - val_top_k_categorical_accuracy: 1.0000 - val_sparse_categorical_accuracy: 1.0000\n",
      "Epoch 6/10\n",
      "955/955 [==============================] - 11s - loss: 5.0315 - top_k_categorical_accuracy: 1.0000 - sparse_categorical_accuracy: 0.9979 - val_loss: 4.8735 - val_top_k_categorical_accuracy: 1.0000 - val_sparse_categorical_accuracy: 1.0000\n",
      "Epoch 7/10\n",
      "955/955 [==============================] - 11s - loss: 5.0312 - top_k_categorical_accuracy: 1.0000 - sparse_categorical_accuracy: 1.0000 - val_loss: 4.8748 - val_top_k_categorical_accuracy: 1.0000 - val_sparse_categorical_accuracy: 1.0000\n",
      "Epoch 8/10\n",
      "955/955 [==============================] - 13s - loss: 5.0284 - top_k_categorical_accuracy: 1.0000 - sparse_categorical_accuracy: 0.9990 - val_loss: 4.8749 - val_top_k_categorical_accuracy: 1.0000 - val_sparse_categorical_accuracy: 1.0000\n",
      "Epoch 9/10\n",
      "955/955 [==============================] - 13s - loss: 5.0292 - top_k_categorical_accuracy: 1.0000 - sparse_categorical_accuracy: 0.9969 - val_loss: 4.8736 - val_top_k_categorical_accuracy: 1.0000 - val_sparse_categorical_accuracy: 1.0000\n",
      "Epoch 10/10\n",
      "955/955 [==============================] - 11s - loss: 5.0525 - top_k_categorical_accuracy: 1.0000 - sparse_categorical_accuracy: 1.0000 - val_loss: 4.8735 - val_top_k_categorical_accuracy: 1.0000 - val_sparse_categorical_accuracy: 1.0000\n",
      "298/298 [==============================] - 1s     \n",
      "------------------------------------------\n",
      "categorical_crossentropy + rmsprop\n",
      "\n",
      "top_k_categorical_accuracy: 100.00%\n",
      "------------------------------------------\n",
      "Train on 955 samples, validate on 239 samples\n",
      "Epoch 1/10\n",
      "955/955 [==============================] - 13s - loss: 9.4197 - top_k_categorical_accuracy: 1.0000 - sparse_categorical_accuracy: 0.0984 - val_loss: 10.7747 - val_top_k_categorical_accuracy: 1.0000 - val_sparse_categorical_accuracy: 0.0000e+00\n",
      "Epoch 2/10\n",
      "955/955 [==============================] - 11s - loss: 10.6902 - top_k_categorical_accuracy: 1.0000 - sparse_categorical_accuracy: 0.0000e+00 - val_loss: 10.7779 - val_top_k_categorical_accuracy: 1.0000 - val_sparse_categorical_accuracy: 0.0000e+00\n",
      "Epoch 3/10\n",
      "955/955 [==============================] - 11s - loss: 10.6902 - top_k_categorical_accuracy: 1.0000 - sparse_categorical_accuracy: 0.0042 - val_loss: 10.7798 - val_top_k_categorical_accuracy: 1.0000 - val_sparse_categorical_accuracy: 0.0000e+00\n",
      "Epoch 4/10\n",
      "955/955 [==============================] - 11s - loss: 10.6902 - top_k_categorical_accuracy: 1.0000 - sparse_categorical_accuracy: 0.0178 - val_loss: 10.7829 - val_top_k_categorical_accuracy: 1.0000 - val_sparse_categorical_accuracy: 0.0000e+00\n",
      "Epoch 5/10\n",
      "955/955 [==============================] - 13s - loss: 10.6902 - top_k_categorical_accuracy: 1.0000 - sparse_categorical_accuracy: 0.0157 - val_loss: 10.7860 - val_top_k_categorical_accuracy: 1.0000 - val_sparse_categorical_accuracy: 0.0000e+00\n",
      "Epoch 6/10\n",
      "955/955 [==============================] - 12s - loss: 10.6902 - top_k_categorical_accuracy: 1.0000 - sparse_categorical_accuracy: 0.0188 - val_loss: 10.7895 - val_top_k_categorical_accuracy: 1.0000 - val_sparse_categorical_accuracy: 0.0251\n",
      "Epoch 7/10\n",
      "955/955 [==============================] - 11s - loss: 10.6902 - top_k_categorical_accuracy: 1.0000 - sparse_categorical_accuracy: 0.0209 - val_loss: 10.7906 - val_top_k_categorical_accuracy: 1.0000 - val_sparse_categorical_accuracy: 0.0251\n",
      "Epoch 8/10\n",
      "955/955 [==============================] - 11s - loss: 10.6902 - top_k_categorical_accuracy: 1.0000 - sparse_categorical_accuracy: 0.0209 - val_loss: 10.7919 - val_top_k_categorical_accuracy: 1.0000 - val_sparse_categorical_accuracy: 0.0251\n",
      "Epoch 9/10\n",
      "955/955 [==============================] - 11s - loss: 10.6901 - top_k_categorical_accuracy: 1.0000 - sparse_categorical_accuracy: 0.0209 - val_loss: 10.7934 - val_top_k_categorical_accuracy: 1.0000 - val_sparse_categorical_accuracy: 0.0251\n",
      "Epoch 10/10\n",
      "955/955 [==============================] - 11s - loss: 10.6901 - top_k_categorical_accuracy: 1.0000 - sparse_categorical_accuracy: 0.0209 - val_loss: 10.7950 - val_top_k_categorical_accuracy: 1.0000 - val_sparse_categorical_accuracy: 0.0251\n",
      "298/298 [==============================] - 1s     \n",
      "------------------------------------------\n",
      "binary_crossentropy + rmsprop\n",
      "\n",
      "top_k_categorical_accuracy: 100.00%\n",
      "------------------------------------------\n"
     ]
    }
   ],
   "source": [
    "models = multiple_hyper_train(x_train, y_train, x_test, y_test)"
   ]
  },
  {
   "cell_type": "markdown",
   "metadata": {},
   "source": [
    "## Visualization"
   ]
  },
  {
   "cell_type": "code",
   "execution_count": 46,
   "metadata": {
    "collapsed": true
   },
   "outputs": [],
   "source": [
    "import matplotlib.pyplot as plt\n",
    "%matplotlib inline\n",
    "\n",
    "def plot_acc(model, metric):\n",
    "    #summarize history for accuracy\n",
    "    print(str(metric))\n",
    "    plt.plot(model.history.history[str(metric)])\n",
    "    plt.plot(model.history.history['val_' + str(metric)])\n",
    "    plt.title('model accuracy')\n",
    "    plt.ylabel('accuracy')\n",
    "    plt.xlabel('epoch')\n",
    "    plt.legend(['train', 'test'], loc='upper left')\n",
    "    \n",
    "def plot_loss(model):\n",
    "    #summarize history for loss\n",
    "    plt.plot(model.history.history['loss'])\n",
    "    plt.plot(model.history.history['val_loss'])\n",
    "    plt.title('model loss')\n",
    "    plt.ylabel('loss')\n",
    "    plt.xlabel('epoch')\n",
    "    plt.legend(['train', 'test'], loc='upper left')\n",
    "    \n"
   ]
  },
  {
   "cell_type": "code",
   "execution_count": 255,
   "metadata": {
    "scrolled": true
   },
   "outputs": [
    {
     "name": "stdout",
     "output_type": "stream",
     "text": [
      "Model 0 : categorical_crossentropy + rmsprop\n"
     ]
    },
    {
     "data": {
      "image/png": "[encoded data removed]",
      "text/plain": [
       "<matplotlib.figure.Figure at 0x190060cf8>"
      ]
     },
     "metadata": {},
     "output_type": "display_data"
    },
    {
     "name": "stdout",
     "output_type": "stream",
     "text": [
      "Model 1 : binary_crossentropy + rmsprop\n"
     ]
    },
    {
     "data": {
      "image/png": "[encoded data removed]",
      "text/plain": [
       "<matplotlib.figure.Figure at 0x190caeb00>"
      ]
     },
     "metadata": {},
     "output_type": "display_data"
    }
   ],
   "source": [
    "count=0\n",
    "for i,loss_func in enumerate(['categorical_crossentropy','binary_crossentropy']):\n",
    "    for j,optimizer in enumerate(['rmsprop']):\n",
    "        print(\"Model\", count , \":\",loss_func,\"+\", optimizer)\n",
    "        plot_loss(models[count])\n",
    "        count += 1\n",
    "        plt.show()"
   ]
  },
  {
   "cell_type": "markdown",
   "metadata": {},
   "source": [
    "## K-fold cross validation to handle imbalance classes"
   ]
  },
  {
   "cell_type": "code",
   "execution_count": 265,
   "metadata": {
    "collapsed": true
   },
   "outputs": [],
   "source": [
    "from sklearn.model_selection import StratifiedKFold\n",
    "def kfold_cv(x_train, y, labels):\n",
    "    # fix random seed for reproducibility\n",
    "    seed = 7\n",
    "    np.random.seed(seed)\n",
    "    #############################################\n",
    "    # define 10-fold cross validation test harness\n",
    "    # The folds are made by preserving the percentage of samples for each class.\n",
    "    #############################################\n",
    "    kfold = StratifiedKFold(n_splits=5, shuffle=True, random_state=seed)\n",
    "    cvscores = []\n",
    "    models = []\n",
    "\n",
    "    for train, test in kfold.split(data, y):\n",
    "        # create model\n",
    "        model = cnn_model()\n",
    "        # Compile model\n",
    "        model.compile(loss='categorical_crossentropy', optimizer='rmsprop', metrics=[top_k_categorical_accuracy])\n",
    "        # Fit the model\n",
    "        model.fit(data[train], labels[train], verbose=1, validation_split=.2, \n",
    "                                      epochs=10, batch_size=128, class_weight=class_weight)\n",
    "        models.append(model)\n",
    "        \n",
    "        # evaluate the model\n",
    "        scores = model.evaluate(data[test], labels[test], verbose=1)\n",
    "        print(\"%s: %.2f%%\" % (model.metrics_names[1], scores[1]*100))\n",
    "        cvscores.append(scores[1] * 100)\n",
    "    print(\"Mean:\",np.mean(cvscores), \"STD:\",np.std(cvscores))\n",
    "    return (models, cvscores)"
   ]
  },
  {
   "cell_type": "code",
   "execution_count": 266,
   "metadata": {
    "scrolled": true
   },
   "outputs": [
    {
     "name": "stdout",
     "output_type": "stream",
     "text": [
      "Train on 953 samples, validate on 239 samples\n",
      "Epoch 1/10\n",
      "953/953 [==============================] - 14s - loss: 5.8522 - top_k_categorical_accuracy: 1.0000 - val_loss: 5.2749 - val_top_k_categorical_accuracy: 1.0000\n",
      "Epoch 2/10\n",
      "953/953 [==============================] - 11s - loss: 5.1053 - top_k_categorical_accuracy: 1.0000 - val_loss: 5.2772 - val_top_k_categorical_accuracy: 1.0000\n",
      "Epoch 3/10\n",
      "953/953 [==============================] - 11s - loss: 5.1096 - top_k_categorical_accuracy: 1.0000 - val_loss: 5.2835 - val_top_k_categorical_accuracy: 1.0000\n",
      "Epoch 4/10\n",
      "953/953 [==============================] - 11s - loss: 5.1071 - top_k_categorical_accuracy: 1.0000 - val_loss: 5.2749 - val_top_k_categorical_accuracy: 1.0000\n",
      "Epoch 5/10\n",
      "953/953 [==============================] - 11s - loss: 5.0960 - top_k_categorical_accuracy: 1.0000 - val_loss: 5.2757 - val_top_k_categorical_accuracy: 1.0000\n",
      "Epoch 6/10\n",
      "953/953 [==============================] - 11s - loss: 5.0926 - top_k_categorical_accuracy: 1.0000 - val_loss: 5.2782 - val_top_k_categorical_accuracy: 1.0000\n",
      "Epoch 7/10\n",
      "953/953 [==============================] - 11s - loss: 5.0920 - top_k_categorical_accuracy: 1.0000 - val_loss: 5.2797 - val_top_k_categorical_accuracy: 1.0000\n",
      "Epoch 8/10\n",
      "953/953 [==============================] - 12s - loss: 5.0915 - top_k_categorical_accuracy: 1.0000 - val_loss: 5.2802 - val_top_k_categorical_accuracy: 1.0000\n",
      "Epoch 9/10\n",
      "953/953 [==============================] - 13s - loss: 5.0912 - top_k_categorical_accuracy: 1.0000 - val_loss: 5.2858 - val_top_k_categorical_accuracy: 1.0000\n",
      "Epoch 10/10\n",
      "953/953 [==============================] - 12s - loss: 5.0913 - top_k_categorical_accuracy: 1.0000 - val_loss: 5.2895 - val_top_k_categorical_accuracy: 1.0000\n",
      "300/300 [==============================] - 1s     \n",
      "top_k_categorical_accuracy: 100.00%\n",
      "Train on 955 samples, validate on 239 samples\n",
      "Epoch 1/10\n",
      "955/955 [==============================] - 14s - loss: 4.6972 - top_k_categorical_accuracy: 1.0000 - val_loss: 5.9408 - val_top_k_categorical_accuracy: 1.0000\n",
      "Epoch 2/10\n",
      "955/955 [==============================] - 11s - loss: 4.9883 - top_k_categorical_accuracy: 1.0000 - val_loss: 5.9407 - val_top_k_categorical_accuracy: 1.0000\n",
      "Epoch 3/10\n",
      "955/955 [==============================] - 11s - loss: 4.9854 - top_k_categorical_accuracy: 1.0000 - val_loss: 5.9406 - val_top_k_categorical_accuracy: 1.0000\n",
      "Epoch 4/10\n",
      "955/955 [==============================] - 11s - loss: 4.9822 - top_k_categorical_accuracy: 1.0000 - val_loss: 5.9406 - val_top_k_categorical_accuracy: 1.0000\n",
      "Epoch 5/10\n",
      "955/955 [==============================] - 11s - loss: 4.9796 - top_k_categorical_accuracy: 1.0000 - val_loss: 5.9509 - val_top_k_categorical_accuracy: 1.0000\n",
      "Epoch 6/10\n",
      "955/955 [==============================] - 11s - loss: 4.9840 - top_k_categorical_accuracy: 1.0000 - val_loss: 5.9406 - val_top_k_categorical_accuracy: 1.0000\n",
      "Epoch 7/10\n",
      "955/955 [==============================] - 11s - loss: 4.9851 - top_k_categorical_accuracy: 1.0000 - val_loss: 5.9405 - val_top_k_categorical_accuracy: 1.0000\n",
      "Epoch 8/10\n",
      "955/955 [==============================] - 11s - loss: 4.9811 - top_k_categorical_accuracy: 1.0000 - val_loss: 5.9405 - val_top_k_categorical_accuracy: 1.0000\n",
      "Epoch 9/10\n",
      "955/955 [==============================] - 11s - loss: 4.9792 - top_k_categorical_accuracy: 1.0000 - val_loss: 5.9409 - val_top_k_categorical_accuracy: 1.0000\n",
      "Epoch 10/10\n",
      "955/955 [==============================] - 11s - loss: 4.9783 - top_k_categorical_accuracy: 1.0000 - val_loss: 5.9412 - val_top_k_categorical_accuracy: 1.0000\n",
      "298/298 [==============================] - 1s     \n",
      "top_k_categorical_accuracy: 100.00%\n",
      "Train on 955 samples, validate on 239 samples\n",
      "Epoch 1/10\n",
      "955/955 [==============================] - 13s - loss: 9.6366 - top_k_categorical_accuracy: 1.0000 - val_loss: 10.1303 - val_top_k_categorical_accuracy: 1.0000\n",
      "Epoch 2/10\n",
      "955/955 [==============================] - 11s - loss: 10.7486 - top_k_categorical_accuracy: 1.0000 - val_loss: 10.1303 - val_top_k_categorical_accuracy: 1.0000\n",
      "Epoch 3/10\n",
      "955/955 [==============================] - 11s - loss: 10.7486 - top_k_categorical_accuracy: 1.0000 - val_loss: 10.1303 - val_top_k_categorical_accuracy: 1.0000\n",
      "Epoch 4/10\n",
      "955/955 [==============================] - 11s - loss: 10.7487 - top_k_categorical_accuracy: 1.0000 - val_loss: 10.1302 - val_top_k_categorical_accuracy: 1.0000\n",
      "Epoch 5/10\n",
      "955/955 [==============================] - 11s - loss: 10.7486 - top_k_categorical_accuracy: 1.0000 - val_loss: 10.1303 - val_top_k_categorical_accuracy: 1.0000\n",
      "Epoch 6/10\n",
      "955/955 [==============================] - 11s - loss: 10.7487 - top_k_categorical_accuracy: 1.0000 - val_loss: 10.1302 - val_top_k_categorical_accuracy: 1.0000\n",
      "Epoch 7/10\n",
      "955/955 [==============================] - 11s - loss: 10.7486 - top_k_categorical_accuracy: 1.0000 - val_loss: 10.1302 - val_top_k_categorical_accuracy: 1.0000\n",
      "Epoch 8/10\n",
      "955/955 [==============================] - 11s - loss: 10.7486 - top_k_categorical_accuracy: 1.0000 - val_loss: 10.1302 - val_top_k_categorical_accuracy: 1.0000\n",
      "Epoch 9/10\n",
      "955/955 [==============================] - 11s - loss: 10.7487 - top_k_categorical_accuracy: 1.0000 - val_loss: 10.1302 - val_top_k_categorical_accuracy: 1.0000\n",
      "Epoch 10/10\n",
      "955/955 [==============================] - 11s - loss: 10.7487 - top_k_categorical_accuracy: 1.0000 - val_loss: 10.1302 - val_top_k_categorical_accuracy: 1.0000\n",
      "298/298 [==============================] - 1s     \n",
      "top_k_categorical_accuracy: 100.00%\n",
      "Train on 955 samples, validate on 239 samples\n",
      "Epoch 1/10\n",
      "955/955 [==============================] - 13s - loss: 4.7907 - top_k_categorical_accuracy: 1.0000 - val_loss: 5.4068 - val_top_k_categorical_accuracy: 1.0000\n",
      "Epoch 2/10\n",
      "955/955 [==============================] - 11s - loss: 4.9604 - top_k_categorical_accuracy: 1.0000 - val_loss: 5.4068 - val_top_k_categorical_accuracy: 1.0000\n",
      "Epoch 3/10\n",
      "955/955 [==============================] - 11s - loss: 4.9604 - top_k_categorical_accuracy: 1.0000 - val_loss: 5.4068 - val_top_k_categorical_accuracy: 1.0000\n",
      "Epoch 4/10\n",
      "955/955 [==============================] - 11s - loss: 4.9604 - top_k_categorical_accuracy: 1.0000 - val_loss: 5.4068 - val_top_k_categorical_accuracy: 1.0000\n",
      "Epoch 5/10\n",
      "955/955 [==============================] - 11s - loss: 4.9604 - top_k_categorical_accuracy: 1.0000 - val_loss: 5.4068 - val_top_k_categorical_accuracy: 1.0000\n",
      "Epoch 6/10\n",
      "955/955 [==============================] - 11s - loss: 4.9604 - top_k_categorical_accuracy: 1.0000 - val_loss: 5.4068 - val_top_k_categorical_accuracy: 1.0000\n",
      "Epoch 7/10\n",
      "955/955 [==============================] - 11s - loss: 4.9604 - top_k_categorical_accuracy: 1.0000 - val_loss: 5.4068 - val_top_k_categorical_accuracy: 1.0000\n",
      "Epoch 8/10\n",
      "955/955 [==============================] - 11s - loss: 4.9604 - top_k_categorical_accuracy: 1.0000 - val_loss: 5.4068 - val_top_k_categorical_accuracy: 1.0000\n",
      "Epoch 9/10\n",
      "955/955 [==============================] - 11s - loss: 4.9604 - top_k_categorical_accuracy: 1.0000 - val_loss: 5.4068 - val_top_k_categorical_accuracy: 1.0000\n",
      "Epoch 10/10\n",
      "955/955 [==============================] - 11s - loss: 4.9604 - top_k_categorical_accuracy: 1.0000 - val_loss: 5.4068 - val_top_k_categorical_accuracy: 1.0000\n",
      "298/298 [==============================] - 1s     \n",
      "top_k_categorical_accuracy: 100.00%\n",
      "Train on 955 samples, validate on 239 samples\n",
      "Epoch 1/10\n",
      "955/955 [==============================] - 14s - loss: 4.8264 - top_k_categorical_accuracy: 1.0000 - val_loss: 5.7440 - val_top_k_categorical_accuracy: 1.0000\n",
      "Epoch 2/10\n",
      "955/955 [==============================] - 12s - loss: 4.9354 - top_k_categorical_accuracy: 1.0000 - val_loss: 5.7440 - val_top_k_categorical_accuracy: 1.0000\n",
      "Epoch 3/10\n",
      "955/955 [==============================] - 12s - loss: 4.9305 - top_k_categorical_accuracy: 1.0000 - val_loss: 5.7223 - val_top_k_categorical_accuracy: 1.0000\n",
      "Epoch 4/10\n",
      "955/955 [==============================] - 12s - loss: 4.9630 - top_k_categorical_accuracy: 1.0000 - val_loss: 5.7959 - val_top_k_categorical_accuracy: 1.0000\n",
      "Epoch 5/10\n",
      "955/955 [==============================] - 13s - loss: 4.9070 - top_k_categorical_accuracy: 1.0000 - val_loss: 5.7463 - val_top_k_categorical_accuracy: 1.0000\n",
      "Epoch 6/10\n",
      "955/955 [==============================] - 14s - loss: 4.9207 - top_k_categorical_accuracy: 1.0000 - val_loss: 5.7440 - val_top_k_categorical_accuracy: 1.0000\n",
      "Epoch 7/10\n",
      "955/955 [==============================] - 14s - loss: 4.9163 - top_k_categorical_accuracy: 1.0000 - val_loss: 5.7526 - val_top_k_categorical_accuracy: 1.0000\n",
      "Epoch 8/10\n",
      "955/955 [==============================] - 16s - loss: 4.9128 - top_k_categorical_accuracy: 1.0000 - val_loss: 5.7441 - val_top_k_categorical_accuracy: 1.0000\n",
      "Epoch 9/10\n",
      "955/955 [==============================] - 16s - loss: 4.9156 - top_k_categorical_accuracy: 1.0000 - val_loss: 5.7482 - val_top_k_categorical_accuracy: 1.0000\n",
      "Epoch 10/10\n",
      "955/955 [==============================] - 1379s - loss: 4.9114 - top_k_categorical_accuracy: 1.0000 - val_loss: 5.7503 - val_top_k_categorical_accuracy: 1.0000\n",
      "298/298 [==============================] - 1s     \n",
      "top_k_categorical_accuracy: 100.00%\n",
      "Mean: 100.0 STD: 0.0\n"
     ]
    }
   ],
   "source": [
    "k = kfold_cv(data, y, labels)"
   ]
  },
  {
   "cell_type": "code",
   "execution_count": 269,
   "metadata": {},
   "outputs": [
    {
     "name": "stdout",
     "output_type": "stream",
     "text": [
      "Model 0 : 0 + rmsprop\n"
     ]
    },
    {
     "data": {
      "image/png": "[encoded data removed]",
      "text/plain": [
       "<matplotlib.figure.Figure at 0x1a4654908>"
      ]
     },
     "metadata": {},
     "output_type": "display_data"
    },
    {
     "name": "stdout",
     "output_type": "stream",
     "text": [
      "Model 1 : 1 + rmsprop\n"
     ]
    },
    {
     "data": {
      "image/png": "[encoded data removed]",
      "text/plain": [
       "<matplotlib.figure.Figure at 0x1a253fef0>"
      ]
     },
     "metadata": {},
     "output_type": "display_data"
    },
    {
     "name": "stdout",
     "output_type": "stream",
     "text": [
      "Model 2 : 2 + rmsprop\n"
     ]
    },
    {
     "data": {
      "image/png": "[encoded data removed]",
      "text/plain": [
       "<matplotlib.figure.Figure at 0x1a064b048>"
      ]
     },
     "metadata": {},
     "output_type": "display_data"
    },
    {
     "name": "stdout",
     "output_type": "stream",
     "text": [
      "Model 3 : 3 + rmsprop\n"
     ]
    },
    {
     "data": {
      "image/png": "[encoded data removed]",
      "text/plain": [
       "<matplotlib.figure.Figure at 0x1a24293c8>"
      ]
     },
     "metadata": {},
     "output_type": "display_data"
    },
    {
     "name": "stdout",
     "output_type": "stream",
     "text": [
      "Model 4 : 4 + rmsprop\n"
     ]
    },
    {
     "data": {
      "image/png": "[encoded data removed]",
      "text/plain": [
       "<matplotlib.figure.Figure at 0x1a41c9160>"
      ]
     },
     "metadata": {},
     "output_type": "display_data"
    }
   ],
   "source": [
    "count=0\n",
    "for i,loss_func in enumerate(range(5)):\n",
    "    print(\"Model\", count , \":\",loss_func,\"+\", optimizer)\n",
    "    plot_loss(k[0][count])\n",
    "    count += 1\n",
    "    plt.show()"
   ]
  },
  {
   "cell_type": "code",
   "execution_count": 268,
   "metadata": {},
   "outputs": [
    {
     "data": {
      "text/plain": [
       "[<keras.engine.training.Model at 0x19e6f4fd0>,\n",
       " <keras.engine.training.Model at 0x19f411d30>,\n",
       " <keras.engine.training.Model at 0x19e600630>,\n",
       " <keras.engine.training.Model at 0x1a043b978>,\n",
       " <keras.engine.training.Model at 0x1a436ae80>]"
      ]
     },
     "execution_count": 268,
     "metadata": {},
     "output_type": "execute_result"
    }
   ],
   "source": [
    "k[0]"
   ]
  },
  {
   "cell_type": "markdown",
   "metadata": {},
   "source": [
    "## Conclusion:"
   ]
  },
  {
   "cell_type": "markdown",
   "metadata": {},
   "source": [
    "The goal of the project is aim to show the great performance of using deep learning in text classification for a supervised dataset of TedTalk transcripts whether the speech is from a male voice or female voice. The training/learning is gone through two comparable methodologies which is a baseline model using scikit learn versus a strong deep learning model using keras modules. The evaluation showed that the accuracy for baseline model is about 99.7% while with the right metric evaluation( in this case, it's k-top-categorical-accuracy), deep learning model is able to predict correctly 100%. This shows that deep learning model is really powerful in advanced contexts. \n",
    "   "
   ]
  },
  {
   "cell_type": "markdown",
   "metadata": {},
   "source": [
    "## Q&A"
   ]
  },
  {
   "cell_type": "markdown",
   "metadata": {},
   "source": [
    "* What was the biggest challenge/obstacle/hurdle?\n",
    "\n",
    "During the training, the challenges are scattered through each step, the biggest challenge is during the training proccess. Since putting the wrong hyperparameters would yield a significant wrong result, it did take time and tests to investigate the optimized result.\n",
    "\n",
    "* If you had two more weeks what would you do?\n",
    "\n",
    "If there are additional time for this project, I would likely to explore with more complex classification rather than just male and female. It can be subject/topic classification such as science, math, environment, english,... .\n",
    "    \n",
    "* Does it scale?\n",
    "\n",
    "Yes, the model is able to be flexible for adjusting size of all keras parameters such as embedding dimension, MAX_SEQUENCE_LENGTH \n",
    "\n",
    "* How would you turn your project in a data product?\n",
    "\n",
    "To do so, the input data must have to be formatted in same way with the Tedtalk transcript document. The input data will then be able to preprocessed. All parameters in keras would have been set to be bigger or smaller upon the size of dataset or user's choice.\n",
    "\n",
    "* Why does your deep learning model beat your baseline?\n",
    "\n",
    "Deep learning is able to adjust weight by using different optimizers, by doing so, accuracy is slightly improved but it will results in high tradeoff with loss.\n",
    "\n",
    "* What are the tradeoffs between your baseline and your deep learning model? Would you put your deep learning model into production over your baseline? Why or why not?\n",
    "\n",
    "Even though multiple loss functions have been tested, the training still shows high loss tradeoff with accuracy. Because of this, the model maybe not be considered as a perfect model for data production.\n",
    "\n",
    "* What evidence can you provide that your model has generalized correctly?\n",
    "\n",
    "Evaluation for test data always reach 100% for every repeat test.\n",
    "\n",
    "* Are your results significant?\n",
    "Yes, they are.\n",
    "\n",
    "* What hyperparameters mattered? Which didn't?\n",
    "\n",
    "Metrics is the most important hyperparameter among others. For the imbalance dataset, the wrong metrics had leaded to the significant incorrect predictions.\n",
    "\n",
    "* Why did or didn't you use accuracy as your evaluation metric?\n",
    "I start by testing with different metrics and it appears that k-top-categorical-accuracy showed the top result. Its algorithm works by calculate how often a target class is within the top-k predictions."
   ]
  },
  {
   "cell_type": "code",
   "execution_count": null,
   "metadata": {
    "collapsed": true
   },
   "outputs": [],
   "source": []
  }
 ],
 "metadata": {
  "kernelspec": {
   "display_name": "Python 3",
   "language": "python",
   "name": "python3"
  },
  "language_info": {
   "codemirror_mode": {
    "name": "ipython",
    "version": 3
   },
   "file_extension": ".py",
   "mimetype": "text/x-python",
   "name": "python",
   "nbconvert_exporter": "python",
   "pygments_lexer": "ipython3",
   "version": "3.6.1"
  }
 },
 "nbformat": 4,
 "nbformat_minor": 2
}
